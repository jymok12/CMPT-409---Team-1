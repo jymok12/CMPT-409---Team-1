{
 "cells": [
  {
   "cell_type": "code",
   "execution_count": 40,
   "metadata": {},
   "outputs": [],
   "source": [
    "import pandas as pd\n",
    "import os\n",
    "import json\n",
    "from datetime import datetime"
   ]
  },
  {
   "cell_type": "code",
   "execution_count": 41,
   "metadata": {},
   "outputs": [],
   "source": [
    "dict_from_csv = pd.read_csv('G:\\CMPT 409\\CMPT-409---Team-1\\Project\\high_diamond_ranked_10min.csv')\n",
    "old_value = dict_from_csv['gameId']\n",
    "minimum_value = dict_from_csv['gameId'].min()\n",
    "new_value = dict_from_csv['gameId'] - minimum_value\n",
    "dict_from_csv['gameId'].update(new_value)\n",
    "dict_from_csv.to_csv('G:\\CMPT 409\\CMPT-409---Team-1\\Project\\high_diamond_ranked_10min.csv(updated)')"
   ]
  },
  {
   "cell_type": "code",
   "execution_count": 42,
   "metadata": {},
   "outputs": [],
   "source": [
    "dict_from_csv = pd.read_csv('G:\\CMPT 409\\CMPT-409---Team-1\\Project\\high_diamond_ranked_10min.csv(updated)', header = None, index_col = 0, squeeze = True).to_dict()\n",
    "with open('dict.json','w') as fp:\n",
    "     json.dump(dict_from_csv, fp)"
   ]
  }
 ],
 "metadata": {
  "kernelspec": {
   "display_name": "Python 3.9.7 ('base')",
   "language": "python",
   "name": "python3"
  },
  "language_info": {
   "codemirror_mode": {
    "name": "ipython",
    "version": 3
   },
   "file_extension": ".py",
   "mimetype": "text/x-python",
   "name": "python",
   "nbconvert_exporter": "python",
   "pygments_lexer": "ipython3",
   "version": "3.9.7"
  },
  "orig_nbformat": 4,
  "vscode": {
   "interpreter": {
    "hash": "e07338e06276bbdaea4a4099d99ab1b26af982481740afda75089be06bed4d6c"
   }
  }
 },
 "nbformat": 4,
 "nbformat_minor": 2
}
